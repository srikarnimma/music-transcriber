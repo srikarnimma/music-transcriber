{
 "cells": [
  {
   "cell_type": "code",
   "execution_count": 2,
   "metadata": {},
   "outputs": [
    {
     "name": "stdout",
     "output_type": "stream",
     "text": [
      "/Users/srikarnimmagadda/anaconda3/lib/python3.6/site-packages/pyaudio.py\n",
      "/Users/srikarnimmagadda/anaconda3/lib/python3.6/struct.py\n",
      "/Users/srikarnimmagadda/anaconda3/lib/python3.6/site-packages/numpy/__init__.py\n",
      "/Users/srikarnimmagadda/anaconda3/lib/python3.6/site-packages/matplotlib/pyplot.py\n"
     ]
    }
   ],
   "source": [
    "import pyaudio\n",
    "import struct\n",
    "import numpy as np\n",
    "import matplotlib.pyplot as plt\n",
    "\n",
    "print(pyaudio.__file__)\n",
    "print(struct.__file__)\n",
    "print(np.__file__)\n",
    "print(plt.__file__)"
   ]
  },
  {
   "cell_type": "code",
   "execution_count": null,
   "metadata": {},
   "outputs": [],
   "source": []
  }
 ],
 "metadata": {
  "kernelspec": {
   "display_name": "Python 3",
   "language": "python",
   "name": "python3"
  },
  "language_info": {
   "codemirror_mode": {
    "name": "ipython",
    "version": 3
   },
   "file_extension": ".py",
   "mimetype": "text/x-python",
   "name": "python",
   "nbconvert_exporter": "python",
   "pygments_lexer": "ipython3",
   "version": "3.6.8"
  }
 },
 "nbformat": 4,
 "nbformat_minor": 2
}
